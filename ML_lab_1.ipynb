{
  "nbformat": 4,
  "nbformat_minor": 0,
  "metadata": {
    "colab": {
      "provenance": [],
      "mount_file_id": "1cQkKTEwVTGIw-s1wwkgMqo-5vGzoi0Cy",
      "authorship_tag": "ABX9TyPo3b7r7e/fSFwaU/VznuV5",
      "include_colab_link": true
    },
    "kernelspec": {
      "name": "python3",
      "display_name": "Python 3"
    },
    "language_info": {
      "name": "python"
    }
  },
  "cells": [
    {
      "cell_type": "markdown",
      "metadata": {
        "id": "view-in-github",
        "colab_type": "text"
      },
      "source": [
        "<a href=\"https://colab.research.google.com/github/nishu-mns/ML-Labs/blob/main/ML_lab_1.ipynb\" target=\"_parent\"><img src=\"https://colab.research.google.com/assets/colab-badge.svg\" alt=\"Open In Colab\"/></a>"
      ]
    },
    {
      "cell_type": "code",
      "execution_count": null,
      "metadata": {
        "colab": {
          "base_uri": "https://localhost:8080/"
        },
        "id": "HdTd0sPu-dB0",
        "outputId": "5ebc09f9-7ec8-47fd-eea6-6dc9280906d3"
      },
      "outputs": [
        {
          "output_type": "stream",
          "name": "stdout",
          "text": [
            "5 TYPE:  <class 'int'>\n",
            "Hello TYPE:  <class 'str'>\n",
            "[1, 2, 3] TYPE:  <class 'list'>\n"
          ]
        }
      ],
      "source": [
        "import numpy as np\n",
        "x=5\n",
        "print(x,\"TYPE: \",type(x))\n",
        "x=\"Hello\"\n",
        "print(x,\"TYPE: \",type(x))\n",
        "x=[1,2,3]\n",
        "print(x,\"TYPE: \",type(x))"
      ]
    },
    {
      "cell_type": "code",
      "source": [
        "import numpy as np\n",
        "\n",
        "x = np.array([[1,2],[3,4]], dtype=np.float64)\n",
        "y = np.array([[5,6],[7,8]], dtype=np.float64)\n",
        "print(x + y)\n",
        "print(np.add(x, y))\n",
        "print(x.dot(y))\n",
        "v = np.array([[1,2,3]])\n",
        "print(v )\n",
        "print(\"transpose\\n\", v.T)"
      ],
      "metadata": {
        "colab": {
          "base_uri": "https://localhost:8080/"
        },
        "id": "guWuKng3CAw3",
        "outputId": "3df4c1fd-5a8d-4e2e-d0ab-7355c1fb2a00"
      },
      "execution_count": null,
      "outputs": [
        {
          "output_type": "stream",
          "name": "stdout",
          "text": [
            "[[ 6.  8.]\n",
            " [10. 12.]]\n",
            "[[ 6.  8.]\n",
            " [10. 12.]]\n",
            "[[19. 22.]\n",
            " [43. 50.]]\n",
            "[[1 2 3]]\n",
            "transpose\n",
            " [[1]\n",
            " [2]\n",
            " [3]]\n"
          ]
        }
      ]
    },
    {
      "cell_type": "markdown",
      "source": [
        "1) Create Two numpy array of size 4 X 5 and 5 X 4."
      ],
      "metadata": {
        "id": "tqhLH80x4IuY"
      }
    },
    {
      "cell_type": "code",
      "source": [
        "import numpy as np\n",
        "arr1 = np.array([[1,2,3,4],[5,6,7,8],[9,10,11,12],[13,14,15,16],[17,18,19,10]]);\n",
        "arr2 = np.array([[2,4,6,8,10],[12,14,16,18,20],[22,24,26,28,30],[32,34,36,38,40]]);\n",
        "print(arr1)\n",
        "print(arr2)"
      ],
      "metadata": {
        "colab": {
          "base_uri": "https://localhost:8080/"
        },
        "id": "d3ccg2u74Ls9",
        "outputId": "8ab06737-ed3f-4669-f634-69190854809e"
      },
      "execution_count": null,
      "outputs": [
        {
          "output_type": "stream",
          "name": "stdout",
          "text": [
            "[[ 1  2  3  4]\n",
            " [ 5  6  7  8]\n",
            " [ 9 10 11 12]\n",
            " [13 14 15 16]\n",
            " [17 18 19 10]]\n",
            "[[ 2  4  6  8 10]\n",
            " [12 14 16 18 20]\n",
            " [22 24 26 28 30]\n",
            " [32 34 36 38 40]]\n"
          ]
        }
      ]
    },
    {
      "cell_type": "markdown",
      "source": [
        "2) Randomly Initalize that array"
      ],
      "metadata": {
        "id": "vOGjQ9xK5n5z"
      }
    },
    {
      "cell_type": "code",
      "source": [
        "import numpy as np\n",
        "\n",
        "arr1 = np.random.randint(70, size=(4,5));\n",
        "arr2 = np.random.randint(50, size=(5,4));\n",
        "\n",
        "print(arr1)\n",
        "print(arr2)"
      ],
      "metadata": {
        "id": "-RFBGTmJ5xZl",
        "colab": {
          "base_uri": "https://localhost:8080/"
        },
        "outputId": "5feb26a5-2577-473b-c5b4-8a25fe7690f8"
      },
      "execution_count": null,
      "outputs": [
        {
          "output_type": "stream",
          "name": "stdout",
          "text": [
            "[[59 45 29  3 21]\n",
            " [25 57  4 21  6]\n",
            " [ 8 22 16 24  8]\n",
            " [42 18  4  0 37]]\n",
            "[[26 43 36  7]\n",
            " [41 13 25 41]\n",
            " [28 14 19 46]\n",
            " [49 38 12 38]\n",
            " [44  7 16 25]]\n"
          ]
        }
      ]
    },
    {
      "cell_type": "markdown",
      "source": [
        "3) Perform matrix multiplication"
      ],
      "metadata": {
        "id": "KjquGc2Ow-lw"
      }
    },
    {
      "cell_type": "code",
      "source": [
        "import numpy as np\n",
        "\n",
        "arr1 = np.random.randint(9, size=(2,3))\n",
        "arr2 = np.random.randint(9, size=(3,4))\n",
        "print(arr1)\n",
        "print(arr2)\n",
        "\n",
        "arr = np.dot(arr1, arr2)\n",
        "print(arr)"
      ],
      "metadata": {
        "colab": {
          "base_uri": "https://localhost:8080/"
        },
        "id": "15SZGIZKxC39",
        "outputId": "127b5b0e-9feb-4c72-9fc8-6229ab116db6"
      },
      "execution_count": null,
      "outputs": [
        {
          "output_type": "stream",
          "name": "stdout",
          "text": [
            "[[8 0 8]\n",
            " [8 8 6]]\n",
            "[[5 3 7 6]\n",
            " [8 8 0 8]\n",
            " [6 3 4 0]]\n",
            "[[ 88  48  88  48]\n",
            " [140 106  80 112]]\n"
          ]
        }
      ]
    },
    {
      "cell_type": "markdown",
      "source": [
        "4) Perform elementwise matrix multiplication"
      ],
      "metadata": {
        "id": "akDhxIzsxvBt"
      }
    },
    {
      "cell_type": "code",
      "source": [
        "import numpy as np\n",
        "\n",
        "arr1 = np.array([[1,2],[3,4]])\n",
        "arr2 = np.array([[4,8],[0,5]])\n",
        "\n",
        "arr = np.multiply(arr1, arr2)\n",
        "print(arr)"
      ],
      "metadata": {
        "colab": {
          "base_uri": "https://localhost:8080/"
        },
        "id": "R_YjfLJnxwyC",
        "outputId": "b41ae528-51d5-4242-c999-c4d498fca4d7"
      },
      "execution_count": null,
      "outputs": [
        {
          "output_type": "stream",
          "name": "stdout",
          "text": [
            "[[ 4 16]\n",
            " [ 0 20]]\n"
          ]
        }
      ]
    },
    {
      "cell_type": "markdown",
      "source": [
        "5) Find mean, median of the first matrix."
      ],
      "metadata": {
        "id": "T6ykqMEs2ZLs"
      }
    },
    {
      "cell_type": "code",
      "source": [
        "import numpy as np\n",
        "\n",
        "arr = np.random.randint(100, size=(4,5))\n",
        "print(arr)\n",
        "\n",
        "# calculates mean along the columns\n",
        "hmean = np.mean(arr, axis=0)\n",
        "# calculates mean along the rows\n",
        "vmean = np.mean(arr, axis=1)\n",
        "print(hmean, vmean)\n",
        "\n",
        "# calculates median along the columns\n",
        "hmed = np.median(arr, axis=0)\n",
        "# calculates median along the rows\n",
        "vmed = np.median(arr, axis=1)\n",
        "print(hmed, vmed)"
      ],
      "metadata": {
        "colab": {
          "base_uri": "https://localhost:8080/"
        },
        "id": "upIm3YH92cUc",
        "outputId": "5f23e56d-2798-42ed-89d2-b6e64b27261e"
      },
      "execution_count": null,
      "outputs": [
        {
          "output_type": "stream",
          "name": "stdout",
          "text": [
            "[[31 21 74 23 95]\n",
            " [92 59 16 14 37]\n",
            " [92 71 80 98 10]\n",
            " [62 84 10 86 89]]\n",
            "[69.25 58.75 45.   55.25 57.75] [48.8 43.6 70.2 66.2]\n",
            "[77.  65.  45.  54.5 63. ] [31. 37. 80. 84.]\n"
          ]
        }
      ]
    },
    {
      "cell_type": "markdown",
      "source": [
        "6) Get the transpose of that Matrix that you created. Create a square matrix and find its deter-\n",
        "minant."
      ],
      "metadata": {
        "id": "QcAnCMQ42wPb"
      }
    },
    {
      "cell_type": "code",
      "source": [
        "import numpy as np\n",
        "\n",
        "arr = np.random.randint(100, size=(4,5))\n",
        "print(arr)\n",
        "\n",
        "arr1 = arr.T\n",
        "print(arr1)\n",
        "\n",
        "arr2 = np.transpose(arr)\n",
        "print(arr2)\n",
        "print()\n",
        "\n",
        "mat = np.random.randint(10, size=(3,3))\n",
        "print(mat)\n",
        "\n",
        "det1 = np.linalg.det(mat).round()\n",
        "print(det1)"
      ],
      "metadata": {
        "colab": {
          "base_uri": "https://localhost:8080/"
        },
        "id": "p_1NElpV2xai",
        "outputId": "61ac2e81-05c8-4d3e-bc97-85b05e7e23b2"
      },
      "execution_count": null,
      "outputs": [
        {
          "output_type": "stream",
          "name": "stdout",
          "text": [
            "[[14 85 36 12 94]\n",
            " [23  9 89 44 40]\n",
            " [98 86 27 11 23]\n",
            " [46 41 32 17 61]]\n",
            "[[14 23 98 46]\n",
            " [85  9 86 41]\n",
            " [36 89 27 32]\n",
            " [12 44 11 17]\n",
            " [94 40 23 61]]\n",
            "[[14 23 98 46]\n",
            " [85  9 86 41]\n",
            " [36 89 27 32]\n",
            " [12 44 11 17]\n",
            " [94 40 23 61]]\n",
            "\n",
            "[[7 0 9]\n",
            " [1 8 9]\n",
            " [8 5 8]]\n",
            "-398.0\n"
          ]
        }
      ]
    },
    {
      "cell_type": "markdown",
      "source": [
        "7) Obtain each row in the second column of the first array."
      ],
      "metadata": {
        "id": "tYZjjhe13zYw"
      }
    },
    {
      "cell_type": "code",
      "source": [
        "import numpy as np\n",
        "\n",
        "arr = np.random.randint(50, size=(4,5))\n",
        "print(arr)\n",
        "# second column will be the second row in the transpose\n",
        "row = arr.T[1:2]\n",
        "print(row)"
      ],
      "metadata": {
        "colab": {
          "base_uri": "https://localhost:8080/"
        },
        "id": "24QPMb5o33oL",
        "outputId": "71bc074c-ab6c-44ea-9cfb-19fe149c5eb9"
      },
      "execution_count": null,
      "outputs": [
        {
          "output_type": "stream",
          "name": "stdout",
          "text": [
            "[[59 94 14 73 43]\n",
            " [55 21  6 72 81]\n",
            " [60 28 42 58 18]\n",
            " [37 22  4 16 72]]\n",
            "[[94 21 28 22]]\n"
          ]
        }
      ]
    },
    {
      "cell_type": "markdown",
      "source": [
        "8) Convert Numeric entries(columns) of mtcars.csv to Mean Centered Version"
      ],
      "metadata": {
        "id": "fFu-Bme64qJ-"
      }
    },
    {
      "cell_type": "code",
      "source": [
        "import numpy as np\n",
        "import csv\n",
        "\n",
        "data = []\n",
        "# read the data from the csv file\n",
        "with open(\"/content/drive/MyDrive/mtcars.csv\", \"r\") as file:\n",
        "    reader = csv.reader(file)\n",
        "    for lines in reader:\n",
        "        data.append(lines)\n",
        "\n",
        "data2 = np.array(data)\n",
        "# extract the useful data from the main data\n",
        "# the heading row is not useful\n",
        "data = data[1:]\n",
        "data = np.array(data)\n",
        "# also the car names are not useful\n",
        "data = np.delete(data, 0, axis=1)\n",
        "\n",
        "# convert the data from string to float\n",
        "data = data.astype(float)\n",
        "# calculate column-wise mean\n",
        "mean = np.mean(data, axis=0)\n",
        "for i in range(len(data)):\n",
        "    data[i] = data[i] - mean\n",
        "\n",
        "# modify the original data by replacing the subpart which is modified above\n",
        "data2[1:, 1:] = data\n",
        "\n",
        "# write the data to a new csv file\n",
        "with open(\"mtcars2.csv\", \"w\") as file:\n",
        "    writer = csv.writer(file)\n",
        "    writer.writerows(data2)\n",
        "     "
      ],
      "metadata": {
        "id": "6sZQmiSR4tdI"
      },
      "execution_count": 18,
      "outputs": []
    },
    {
      "cell_type": "markdown",
      "source": [
        "Exercise for NLTK Library: Perform all text preprocessing tasks on Movie Review Dataset\n",
        "https://www.cs.cornell.edu/people/pabo/movie-review-data/"
      ],
      "metadata": {
        "id": "zgb907ikIjgT"
      }
    },
    {
      "cell_type": "code",
      "source": [
        "import nltk\n",
        "from nltk.corpus import movie_reviews\n",
        "from nltk.corpus import stopwords\n",
        "from nltk.corpus import wordnet as wn\n",
        "import matplotlib.pyplot as plt\n",
        "import random\n",
        "import re\n",
        "import string\n",
        "from nltk.stem import PorterStemmer\n",
        "from nltk.stem import WordNetLemmatizer\n",
        "from nltk.tokenize import word_tokenize\n",
        "\n",
        "nltk.download('movie_reviews')\n",
        "nltk.download(\"stopwords\")\n",
        "nltk.download(\"punkt\")\n",
        "nltk.download(\"wordnet\")\n",
        "nltk.download(\"omw-1.4\")\n",
        "\n",
        "pos_rev = movie_reviews.fileids(\"pos\");\n",
        "neg_rev = movie_reviews.fileids(\"neg\");\n",
        "print(\"The number of positive reviews: \", len(pos_rev), \" and their type is: \", type(pos_rev));\n",
        "print(\"The number of negative reviews: \", len(neg_rev), \" and their type is: \", type(neg_rev));\n",
        "print()\n",
        "\n",
        "# plot a figure for the samples\n",
        "fig = plt.figure(figsize=(5,5))\n",
        "labels = [\"Positive\", \"Negative\"]\n",
        "sizes = [len(pos_rev), len(neg_rev)]\n",
        "colors = [\"#66ff66\", \"#ff6666\"]\n",
        "plt.pie(sizes, labels=labels, colors=colors, startangle=45, shadow=False, autopct=\"%1.2f%%\")\n",
        "plt.axis(\"equal\")\n",
        "plt.show()\n",
        "print()\n",
        "\n",
        "# printing with different colors\n",
        "# positive in green\n",
        "# print(\"\\033[92m\", movie_reviews.raw(fileids=pos_rev[random.randint(0, 100)]))\n",
        "# negative in red\n",
        "# print(\"\\033[91m\", movie_reviews.words(neg_rev[random.randint(0, 100)]))\n",
        "\n",
        "positive_review = movie_reviews.raw(fileids=pos_rev[random.randint(0, 100)])\n",
        "positive_review_tokens = word_tokenize(positive_review)\n",
        "print(\"Tokenized positive review: \", positive_review_tokens)\n",
        "print()\n",
        "\n",
        "stopwords_english = stopwords.words(\"english\")\n",
        "print(\"Stop words: \", stopwords_english)\n",
        "print()\n",
        "print(string.punctuation)\n",
        "print()\n",
        "\n",
        "# cleaning the review\n",
        "review_clean = []\n",
        "for word in positive_review_tokens:\n",
        "    if word not in stopwords_english and word not in string.punctuation:\n",
        "        review_clean.append(word)\n",
        "print(\"Cleaned review: \", review_clean)\n",
        "print()\n",
        "\n",
        "# now we'll perform stemming, i.e. converting the review to the root words\n",
        "stemmer = PorterStemmer()\n",
        "review_stem = []\n",
        "for word in review_clean:\n",
        "    review_stem.append(stemmer.stem(word))\n",
        "# but we see that there are too many miniscule imperfections\n",
        "print(\"Stemmed review: \", review_stem)\n",
        "print()\n",
        "\n",
        "# hence we use lematizer to mitigate the amount of imperfections\n",
        "lemmatizer = WordNetLemmatizer()\n",
        "review_lem = []\n",
        "for word in review_clean:\n",
        "    review_lem.append(lemmatizer.lemmatize(word))\n",
        "print(\"Lemmatized review: \", review_lem)\n"
      ],
      "metadata": {
        "colab": {
          "base_uri": "https://localhost:8080/",
          "height": 722
        },
        "id": "wpdbswdfIpR1",
        "outputId": "d99103f9-b641-49f9-f7f6-ee0cb61e9747"
      },
      "execution_count": 19,
      "outputs": [
        {
          "output_type": "stream",
          "name": "stderr",
          "text": [
            "[nltk_data] Downloading package movie_reviews to /root/nltk_data...\n",
            "[nltk_data]   Unzipping corpora/movie_reviews.zip.\n",
            "[nltk_data] Downloading package stopwords to /root/nltk_data...\n",
            "[nltk_data]   Unzipping corpora/stopwords.zip.\n",
            "[nltk_data] Downloading package punkt to /root/nltk_data...\n",
            "[nltk_data]   Unzipping tokenizers/punkt.zip.\n",
            "[nltk_data] Downloading package wordnet to /root/nltk_data...\n",
            "[nltk_data] Downloading package omw-1.4 to /root/nltk_data...\n"
          ]
        },
        {
          "output_type": "stream",
          "name": "stdout",
          "text": [
            "The number of positive reviews:  1000  and their type is:  <class 'list'>\n",
            "The number of negative reviews:  1000  and their type is:  <class 'list'>\n",
            "\n"
          ]
        },
        {
          "output_type": "display_data",
          "data": {
            "text/plain": [
              "<Figure size 360x360 with 1 Axes>"
            ],
            "image/png": "[encoded data removed]"
          },
          "metadata": {}
        },
        {
          "output_type": "stream",
          "name": "stdout",
          "text": [
            "\n",
            "Tokenized positive review:  ['for', 'those', 'of', 'us', 'who', 'were', \"n't\", 'yet', 'born', 'when', 'the', '1960', \"'s\", 'rock', \"'n\", \"'\", 'rolled', 'around', ',', 'monterey', 'pop', 'affords', 'an', 'affectionate', 'glimpse', 'of', 'the', 'music', 'that', 'influenced', 'our', 'parents', 'to', 'be', 'hippies', '.', 'from', 'otis', 'redding', 'to', 'jimi', 'hendrix', ',', 'janis', 'joplin', 'to', 'the', 'mamas', 'and', 'the', 'papas', ',', 'and', 'jefferson', 'airplane', 'to', 'the', 'who', ',', 'this', 'documentary', 'is', 'jam-packed', 'with', 'contagious', 'energy', '.', 'but', 'i', 'give', 'fair', 'warning', 'that', 'i', 'will', 'reveal', 'the', 'ending', ',', 'which', 'does', 'not', 'do', 'the', 'rest', 'of', 'the', 'film', 'the', 'justice', 'it', 'deserves', '.', 'shot', 'in', '1969', 'at', 'an', 'outdoor', 'concert', 'that', 'precluded', 'woodstock', ',', 'the', 'film', 'defies', 'the', 'stereotype', 'of', 'the', 'general', 'population', 'at', 'the', 'time', '.', 'sure', ',', 'some', 'have', 'painted', 'their', 'faces', 'and', 'smoke', 'joints', ',', 'but', 'd', '.', 'a', '.', 'pennebaker', '(', 'the', 'war', 'room', ',', 'moon', 'over', 'broadway', ')', 'surprisingly', 'chooses', 'to', 'show', 'a', 'broad', 'spectrum', 'of', 'the', 'audience', '.', 'no', 'matter', 'who', 'is', 'watching', ',', 'it', 'all', 'comes', 'back', 'to', 'the', 'talented', 'musicians', 'that', 'stir', 'your', 'soul', '.', 'the', 'excitement', 'starts', 'before', 'the', 'music', 'even', 'begins', '.', 'a', 'young', 'girl', 'is', 'cleaning', 'thousands', 'of', 'seats', 'and', 'when', 'asked', 'why', 'by', 'an', 'interviewer', ',', 'she', 'replies', 'that', 'she', 'feels', 'lucky', 'to', 'do', 'so', '.', 'there', 'are', 'moments', 'of', 'organized', 'craziness', 'as', 'john', 'phillips', ',', 'leader', 'of', 'the', 'mamas', 'and', 'the', 'papas', 'and', 'one', 'of', 'the', 'concert', 'organizers', ',', 'tries', 'to', 'get', 'in', 'touch', 'with', 'dionne', 'warwick', '.', 'and', 'when', 'one', 'band', 'is', 'tuning', 'up', ',', 'a', 'member', 'remarks', ',', '``', 'finally', ',', 'a', 'decent', 'sound', 'system', '!', '``', 'you', 'can', 'tell', 'just', 'by', 'watching', 'these', 'first', 'few', 'moments', 'that', 'this', 'show', 'is', \"n't\", 'about', 'vanity', ',', 'it', \"'s\", 'about', 'playing', 'the', 'music', 'you', 'love', 'to', 'those', 'who', 'have', 'an', 'appreciation', 'for', 'it', ',', 'a', 'two-way', 'street', '.', 'this', 'interaction', 'between', 'audience', 'and', 'performer', 'continues', 'throughout', 'the', 'film', 'and', 'becomes', 'infectious', 'to', 'the', 'audience', '.', 'it', \"'s\", 'impossible', 'to', 'tear', 'your', 'eyes', 'away', 'from', 'janis', 'joplin', 'as', 'she', 'belts', 'out', 'her', 'ballad', 'about', 'love', 'being', 'a', 'ball', 'and', 'chain', '.', 'and', 'while', 'the', 'lyrics', 'to', '``', 'wild', 'thing', '``', 'may', 'not', 'be', 'all', 'that', 'complicated', ',', 'watching', 'jimi', 'hendrix', 'mime', 'having', 'sex', 'with', 'his', 'guitar', 'is', 'as', 'captivating', 'as', 'otis', 'redding', 'singing', 'about', 'love', '.', 'even', 'if', 'you', 'do', \"n't\", 'recognize', 'every', 'band', 'you', 'see', 'on', 'stage', ',', 'you', 'can', 'imagine', 'being', 'as', 'enthralled', 'by', 'their', 'work', 'as', 'the', 'public', 'sitting', 'in', 'those', 'seats', '.', 'the', 'only', 'drawback', 'to', 'the', 'film', 'is', 'the', 'ending', ',', 'which', 'unfortunately', 'i', 'must', 'reveal', '.', 'all', 'the', 'other', 'bands', ',', 'big', 'names', 'then', 'and', 'still', 'today', ',', 'got', 'approximately', '7', 'to', '10', 'minutes', 'of', 'screen', 'time', '.', 'in', 'contrast', ',', 'the', 'last', 'band', 'on', 'camera', ',', 'a', 'wholly', 'forgettable', 'one', ',', 'gets', 'an', 'entire', '18', 'minutes', 'of', 'screen', 'time', '.', 'for', 'a', 'film', 'that', \"'s\", 'only', '78', 'minutes', 'long', ',', 'that', \"'s\", 'too', 'large', 'of', 'a', 'chunk', ',', 'especially', 'when', 'previous', 'acts', 'are', 'much', 'more', 'stimulating', '.', 'all', 'in', 'all', ',', 'monterey', 'pop', 'is', 'a', 'precious', ',', 'rare', 'look', 'at', 'a', 'time', 'period', 'that', 'still', 'holds', 'sway', 'over', 'us', '.', 'the', 'variety', 'of', 'music', ',', 'as', 'well', 'as', 'the', 'beautifully', 'shot', 'performances', ',', 'are', 'easy', 'to', 'become', 'immersed', 'in', '.', 'if', 'there', 'was', 'ever', 'any', 'question', 'as', 'to', 'why', 'most', 'of', 'these', 'bands', 'were', 'so', 'popular', ',', 'this', 'is', 'quickly', 'dispelled', '.', 'it', \"'s\", 'almost', 'depressing', 'to', 'think', 'that', 'music', 'this', 'moving', 'does', \"n't\", 'get', 'made', 'much', 'anymore', '.', 'instead', 'we', \"'re\", 'stuck', 'with', '*', 'nsync', ',', 'the', 'backstreet', 'boys', ',', 'and', 'jennifer', 'lopez', ',', 'all', 'of', 'whom', 'should', 'have', 'stuck', 'with', 'modeling', '.']\n",
            "\n",
            "Stop words:  ['i', 'me', 'my', 'myself', 'we', 'our', 'ours', 'ourselves', 'you', \"you're\", \"you've\", \"you'll\", \"you'd\", 'your', 'yours', 'yourself', 'yourselves', 'he', 'him', 'his', 'himself', 'she', \"she's\", 'her', 'hers', 'herself', 'it', \"it's\", 'its', 'itself', 'they', 'them', 'their', 'theirs', 'themselves', 'what', 'which', 'who', 'whom', 'this', 'that', \"that'll\", 'these', 'those', 'am', 'is', 'are', 'was', 'were', 'be', 'been', 'being', 'have', 'has', 'had', 'having', 'do', 'does', 'did', 'doing', 'a', 'an', 'the', 'and', 'but', 'if', 'or', 'because', 'as', 'until', 'while', 'of', 'at', 'by', 'for', 'with', 'about', 'against', 'between', 'into', 'through', 'during', 'before', 'after', 'above', 'below', 'to', 'from', 'up', 'down', 'in', 'out', 'on', 'off', 'over', 'under', 'again', 'further', 'then', 'once', 'here', 'there', 'when', 'where', 'why', 'how', 'all', 'any', 'both', 'each', 'few', 'more', 'most', 'other', 'some', 'such', 'no', 'nor', 'not', 'only', 'own', 'same', 'so', 'than', 'too', 'very', 's', 't', 'can', 'will', 'just', 'don', \"don't\", 'should', \"should've\", 'now', 'd', 'll', 'm', 'o', 're', 've', 'y', 'ain', 'aren', \"aren't\", 'couldn', \"couldn't\", 'didn', \"didn't\", 'doesn', \"doesn't\", 'hadn', \"hadn't\", 'hasn', \"hasn't\", 'haven', \"haven't\", 'isn', \"isn't\", 'ma', 'mightn', \"mightn't\", 'mustn', \"mustn't\", 'needn', \"needn't\", 'shan', \"shan't\", 'shouldn', \"shouldn't\", 'wasn', \"wasn't\", 'weren', \"weren't\", 'won', \"won't\", 'wouldn', \"wouldn't\"]\n",
            "\n",
            "!\"#$%&'()*+,-./:;<=>?@[\\]^_`{|}~\n",
            "\n",
            "Cleaned review:  ['us', \"n't\", 'yet', 'born', '1960', \"'s\", 'rock', \"'n\", 'rolled', 'around', 'monterey', 'pop', 'affords', 'affectionate', 'glimpse', 'music', 'influenced', 'parents', 'hippies', 'otis', 'redding', 'jimi', 'hendrix', 'janis', 'joplin', 'mamas', 'papas', 'jefferson', 'airplane', 'documentary', 'jam-packed', 'contagious', 'energy', 'give', 'fair', 'warning', 'reveal', 'ending', 'rest', 'film', 'justice', 'deserves', 'shot', '1969', 'outdoor', 'concert', 'precluded', 'woodstock', 'film', 'defies', 'stereotype', 'general', 'population', 'time', 'sure', 'painted', 'faces', 'smoke', 'joints', 'pennebaker', 'war', 'room', 'moon', 'broadway', 'surprisingly', 'chooses', 'show', 'broad', 'spectrum', 'audience', 'matter', 'watching', 'comes', 'back', 'talented', 'musicians', 'stir', 'soul', 'excitement', 'starts', 'music', 'even', 'begins', 'young', 'girl', 'cleaning', 'thousands', 'seats', 'asked', 'interviewer', 'replies', 'feels', 'lucky', 'moments', 'organized', 'craziness', 'john', 'phillips', 'leader', 'mamas', 'papas', 'one', 'concert', 'organizers', 'tries', 'get', 'touch', 'dionne', 'warwick', 'one', 'band', 'tuning', 'member', 'remarks', '``', 'finally', 'decent', 'sound', 'system', '``', 'tell', 'watching', 'first', 'moments', 'show', \"n't\", 'vanity', \"'s\", 'playing', 'music', 'love', 'appreciation', 'two-way', 'street', 'interaction', 'audience', 'performer', 'continues', 'throughout', 'film', 'becomes', 'infectious', 'audience', \"'s\", 'impossible', 'tear', 'eyes', 'away', 'janis', 'joplin', 'belts', 'ballad', 'love', 'ball', 'chain', 'lyrics', '``', 'wild', 'thing', '``', 'may', 'complicated', 'watching', 'jimi', 'hendrix', 'mime', 'sex', 'guitar', 'captivating', 'otis', 'redding', 'singing', 'love', 'even', \"n't\", 'recognize', 'every', 'band', 'see', 'stage', 'imagine', 'enthralled', 'work', 'public', 'sitting', 'seats', 'drawback', 'film', 'ending', 'unfortunately', 'must', 'reveal', 'bands', 'big', 'names', 'still', 'today', 'got', 'approximately', '7', '10', 'minutes', 'screen', 'time', 'contrast', 'last', 'band', 'camera', 'wholly', 'forgettable', 'one', 'gets', 'entire', '18', 'minutes', 'screen', 'time', 'film', \"'s\", '78', 'minutes', 'long', \"'s\", 'large', 'chunk', 'especially', 'previous', 'acts', 'much', 'stimulating', 'monterey', 'pop', 'precious', 'rare', 'look', 'time', 'period', 'still', 'holds', 'sway', 'us', 'variety', 'music', 'well', 'beautifully', 'shot', 'performances', 'easy', 'become', 'immersed', 'ever', 'question', 'bands', 'popular', 'quickly', 'dispelled', \"'s\", 'almost', 'depressing', 'think', 'music', 'moving', \"n't\", 'get', 'made', 'much', 'anymore', 'instead', \"'re\", 'stuck', 'nsync', 'backstreet', 'boys', 'jennifer', 'lopez', 'stuck', 'modeling']\n",
            "\n",
            "Stemmed review:  ['us', \"n't\", 'yet', 'born', '1960', \"'s\", 'rock', \"'n\", 'roll', 'around', 'monterey', 'pop', 'afford', 'affection', 'glimps', 'music', 'influenc', 'parent', 'hippi', 'oti', 'red', 'jimi', 'hendrix', 'jani', 'joplin', 'mama', 'papa', 'jefferson', 'airplan', 'documentari', 'jam-pack', 'contagi', 'energi', 'give', 'fair', 'warn', 'reveal', 'end', 'rest', 'film', 'justic', 'deserv', 'shot', '1969', 'outdoor', 'concert', 'preclud', 'woodstock', 'film', 'defi', 'stereotyp', 'gener', 'popul', 'time', 'sure', 'paint', 'face', 'smoke', 'joint', 'pennebak', 'war', 'room', 'moon', 'broadway', 'surprisingli', 'choos', 'show', 'broad', 'spectrum', 'audienc', 'matter', 'watch', 'come', 'back', 'talent', 'musician', 'stir', 'soul', 'excit', 'start', 'music', 'even', 'begin', 'young', 'girl', 'clean', 'thousand', 'seat', 'ask', 'interview', 'repli', 'feel', 'lucki', 'moment', 'organ', 'crazi', 'john', 'phillip', 'leader', 'mama', 'papa', 'one', 'concert', 'organ', 'tri', 'get', 'touch', 'dionn', 'warwick', 'one', 'band', 'tune', 'member', 'remark', '``', 'final', 'decent', 'sound', 'system', '``', 'tell', 'watch', 'first', 'moment', 'show', \"n't\", 'vaniti', \"'s\", 'play', 'music', 'love', 'appreci', 'two-way', 'street', 'interact', 'audienc', 'perform', 'continu', 'throughout', 'film', 'becom', 'infecti', 'audienc', \"'s\", 'imposs', 'tear', 'eye', 'away', 'jani', 'joplin', 'belt', 'ballad', 'love', 'ball', 'chain', 'lyric', '``', 'wild', 'thing', '``', 'may', 'complic', 'watch', 'jimi', 'hendrix', 'mime', 'sex', 'guitar', 'captiv', 'oti', 'red', 'sing', 'love', 'even', \"n't\", 'recogn', 'everi', 'band', 'see', 'stage', 'imagin', 'enthral', 'work', 'public', 'sit', 'seat', 'drawback', 'film', 'end', 'unfortun', 'must', 'reveal', 'band', 'big', 'name', 'still', 'today', 'got', 'approxim', '7', '10', 'minut', 'screen', 'time', 'contrast', 'last', 'band', 'camera', 'wholli', 'forgett', 'one', 'get', 'entir', '18', 'minut', 'screen', 'time', 'film', \"'s\", '78', 'minut', 'long', \"'s\", 'larg', 'chunk', 'especi', 'previou', 'act', 'much', 'stimul', 'monterey', 'pop', 'preciou', 'rare', 'look', 'time', 'period', 'still', 'hold', 'sway', 'us', 'varieti', 'music', 'well', 'beauti', 'shot', 'perform', 'easi', 'becom', 'immers', 'ever', 'question', 'band', 'popular', 'quickli', 'dispel', \"'s\", 'almost', 'depress', 'think', 'music', 'move', \"n't\", 'get', 'made', 'much', 'anymor', 'instead', \"'re\", 'stuck', 'nsync', 'backstreet', 'boy', 'jennif', 'lopez', 'stuck', 'model']\n",
            "\n",
            "Lemmatized review:  ['u', \"n't\", 'yet', 'born', '1960', \"'s\", 'rock', \"'n\", 'rolled', 'around', 'monterey', 'pop', 'affords', 'affectionate', 'glimpse', 'music', 'influenced', 'parent', 'hippy', 'otis', 'redding', 'jimi', 'hendrix', 'janis', 'joplin', 'mama', 'papa', 'jefferson', 'airplane', 'documentary', 'jam-packed', 'contagious', 'energy', 'give', 'fair', 'warning', 'reveal', 'ending', 'rest', 'film', 'justice', 'deserves', 'shot', '1969', 'outdoor', 'concert', 'precluded', 'woodstock', 'film', 'defies', 'stereotype', 'general', 'population', 'time', 'sure', 'painted', 'face', 'smoke', 'joint', 'pennebaker', 'war', 'room', 'moon', 'broadway', 'surprisingly', 'chooses', 'show', 'broad', 'spectrum', 'audience', 'matter', 'watching', 'come', 'back', 'talented', 'musician', 'stir', 'soul', 'excitement', 'start', 'music', 'even', 'begin', 'young', 'girl', 'cleaning', 'thousand', 'seat', 'asked', 'interviewer', 'reply', 'feel', 'lucky', 'moment', 'organized', 'craziness', 'john', 'phillips', 'leader', 'mama', 'papa', 'one', 'concert', 'organizer', 'try', 'get', 'touch', 'dionne', 'warwick', 'one', 'band', 'tuning', 'member', 'remark', '``', 'finally', 'decent', 'sound', 'system', '``', 'tell', 'watching', 'first', 'moment', 'show', \"n't\", 'vanity', \"'s\", 'playing', 'music', 'love', 'appreciation', 'two-way', 'street', 'interaction', 'audience', 'performer', 'continues', 'throughout', 'film', 'becomes', 'infectious', 'audience', \"'s\", 'impossible', 'tear', 'eye', 'away', 'janis', 'joplin', 'belt', 'ballad', 'love', 'ball', 'chain', 'lyric', '``', 'wild', 'thing', '``', 'may', 'complicated', 'watching', 'jimi', 'hendrix', 'mime', 'sex', 'guitar', 'captivating', 'otis', 'redding', 'singing', 'love', 'even', \"n't\", 'recognize', 'every', 'band', 'see', 'stage', 'imagine', 'enthralled', 'work', 'public', 'sitting', 'seat', 'drawback', 'film', 'ending', 'unfortunately', 'must', 'reveal', 'band', 'big', 'name', 'still', 'today', 'got', 'approximately', '7', '10', 'minute', 'screen', 'time', 'contrast', 'last', 'band', 'camera', 'wholly', 'forgettable', 'one', 'get', 'entire', '18', 'minute', 'screen', 'time', 'film', \"'s\", '78', 'minute', 'long', \"'s\", 'large', 'chunk', 'especially', 'previous', 'act', 'much', 'stimulating', 'monterey', 'pop', 'precious', 'rare', 'look', 'time', 'period', 'still', 'hold', 'sway', 'u', 'variety', 'music', 'well', 'beautifully', 'shot', 'performance', 'easy', 'become', 'immersed', 'ever', 'question', 'band', 'popular', 'quickly', 'dispelled', \"'s\", 'almost', 'depressing', 'think', 'music', 'moving', \"n't\", 'get', 'made', 'much', 'anymore', 'instead', \"'re\", 'stuck', 'nsync', 'backstreet', 'boy', 'jennifer', 'lopez', 'stuck', 'modeling']\n"
          ]
        }
      ]
    },
    {
      "cell_type": "markdown",
      "source": [
        "Pandas\n",
        "1. Draw Scatter Plot between SepalLengthCm and SepalWidthCm for “Iris.csv” file with\n",
        "proper labeling."
      ],
      "metadata": {
        "id": "Q32B3RpXJnyb"
      }
    },
    {
      "cell_type": "code",
      "source": [
        "import numpy as np\n",
        "import pandas as pd\n",
        "import matplotlib.pyplot as plt\n",
        "\n",
        "data = pd.read_csv(\"/content/drive/MyDrive/iris_csv.csv\")\n",
        "\n",
        "plt.scatter(data[\"sepallength\"], data[\"sepalwidth\"])\n",
        "plt.show()"
      ],
      "metadata": {
        "colab": {
          "base_uri": "https://localhost:8080/",
          "height": 268
        },
        "id": "6lAUlnRzJvfe",
        "outputId": "babd44bb-69af-407b-f480-499be056cfe9"
      },
      "execution_count": 22,
      "outputs": [
        {
          "output_type": "display_data",
          "data": {
            "text/plain": [
              "<Figure size 432x288 with 1 Axes>"
            ],
            "image/png": "[encoded data removed]"
          },
          "metadata": {
            "needs_background": "light"
          }
        }
      ]
    },
    {
      "cell_type": "markdown",
      "source": [
        "2. Draw Histogram of SepalLengthCm with proper labeling."
      ],
      "metadata": {
        "id": "ayXEdVR0LNJM"
      }
    },
    {
      "cell_type": "code",
      "source": [
        "import numpy as np\n",
        "import pandas as pd\n",
        "import matplotlib.pyplot as plt\n",
        "\n",
        "data = pd.read_csv(\"/content/drive/MyDrive/iris_csv.csv\")\n",
        "\n",
        "# 'bins' is the number of towers in histogram\n",
        "plt.hist(data[\"sepallength\"], bins=20)\n",
        "plt.show()"
      ],
      "metadata": {
        "colab": {
          "base_uri": "https://localhost:8080/",
          "height": 265
        },
        "id": "zxmtw0v8LOOI",
        "outputId": "56e94f21-2078-4e4d-e34b-13a403439f6c"
      },
      "execution_count": 23,
      "outputs": [
        {
          "output_type": "display_data",
          "data": {
            "text/plain": [
              "<Figure size 432x288 with 1 Axes>"
            ],
            "image/png": "[encoded data removed]"
          },
          "metadata": {
            "needs_background": "light"
          }
        }
      ]
    },
    {
      "cell_type": "markdown",
      "source": [
        "3. Plot bar chart of Species."
      ],
      "metadata": {
        "id": "U1aMRxW_LfCo"
      }
    },
    {
      "cell_type": "code",
      "source": [
        "import numpy as np\n",
        "import pandas as pd\n",
        "import matplotlib.pyplot as plt\n",
        "\n",
        "data = pd.read_csv(\"/content/drive/MyDrive/iris_csv.csv\")\n",
        "\n",
        "df = pd.DataFrame(data, columns=[\"class\"])\n",
        "labels = df[\"class\"].unique()\n",
        "counts = df[\"class\"].value_counts().values\n",
        "plt.bar(labels, counts, color=\"#FF6600\")\n",
        "plt.show()"
      ],
      "metadata": {
        "colab": {
          "base_uri": "https://localhost:8080/",
          "height": 265
        },
        "id": "Uhwvl6SXLf51",
        "outputId": "1ea65924-a363-4433-e6af-a5dcbe1314eb"
      },
      "execution_count": 26,
      "outputs": [
        {
          "output_type": "display_data",
          "data": {
            "text/plain": [
              "<Figure size 432x288 with 1 Axes>"
            ],
            "image/png": "[encoded data removed]"
          },
          "metadata": {
            "needs_background": "light"
          }
        }
      ]
    },
    {
      "cell_type": "markdown",
      "source": [
        "4. Count total null values for each column in this dataset."
      ],
      "metadata": {
        "id": "MoBB-WJCL-kN"
      }
    },
    {
      "cell_type": "code",
      "source": [
        "import numpy as np\n",
        "import pandas as pd\n",
        "import matplotlib.pyplot as plt\n",
        "\n",
        "data = pd.read_csv(\"/content/drive/MyDrive/iris_csv.csv\")\n",
        "\n",
        "print(data.isnull().sum())"
      ],
      "metadata": {
        "colab": {
          "base_uri": "https://localhost:8080/"
        },
        "id": "A2l9y8UNMBbX",
        "outputId": "9aaef31c-5b1d-478a-b223-c5ab8a5e647b"
      },
      "execution_count": 27,
      "outputs": [
        {
          "output_type": "stream",
          "name": "stdout",
          "text": [
            "sepallength    0\n",
            "sepalwidth     0\n",
            "petallength    0\n",
            "petalwidth     0\n",
            "class          0\n",
            "dtype: int64\n"
          ]
        }
      ]
    },
    {
      "cell_type": "markdown",
      "source": [
        "5. i) Print first 5 rows of SepalLengthCm. ii) Print from 5th row onwards all columns of Iris.csv\n",
        "dataset."
      ],
      "metadata": {
        "id": "Q9p5hVjGMxkG"
      }
    },
    {
      "cell_type": "code",
      "source": [
        "import numpy as np\n",
        "import pandas as pd\n",
        "import matplotlib.pyplot as plt\n",
        "\n",
        "data = pd.read_csv(\"/content/drive/MyDrive/iris_csv.csv\")\n",
        "\n",
        "# first 5 rows of SepalLengthCm\n",
        "print(data.loc[:4, \"sepallength\"])\n",
        "print()\n",
        "# print from the 5th row onwards and entire column\n",
        "pd.set_option(\"display.max_rows\", 500)\n",
        "print(data.loc[5:, \"sepallength\"])"
      ],
      "metadata": {
        "colab": {
          "base_uri": "https://localhost:8080/"
        },
        "id": "ucZUlK5qM0ny",
        "outputId": "8791ece7-8c6f-418c-b11c-c57b56cba072"
      },
      "execution_count": 28,
      "outputs": [
        {
          "output_type": "stream",
          "name": "stdout",
          "text": [
            "0    5.1\n",
            "1    4.9\n",
            "2    4.7\n",
            "3    4.6\n",
            "4    5.0\n",
            "Name: sepallength, dtype: float64\n",
            "\n",
            "5      5.4\n",
            "6      4.6\n",
            "7      5.0\n",
            "8      4.4\n",
            "9      4.9\n",
            "10     5.4\n",
            "11     4.8\n",
            "12     4.8\n",
            "13     4.3\n",
            "14     5.8\n",
            "15     5.7\n",
            "16     5.4\n",
            "17     5.1\n",
            "18     5.7\n",
            "19     5.1\n",
            "20     5.4\n",
            "21     5.1\n",
            "22     4.6\n",
            "23     5.1\n",
            "24     4.8\n",
            "25     5.0\n",
            "26     5.0\n",
            "27     5.2\n",
            "28     5.2\n",
            "29     4.7\n",
            "30     4.8\n",
            "31     5.4\n",
            "32     5.2\n",
            "33     5.5\n",
            "34     4.9\n",
            "35     5.0\n",
            "36     5.5\n",
            "37     4.9\n",
            "38     4.4\n",
            "39     5.1\n",
            "40     5.0\n",
            "41     4.5\n",
            "42     4.4\n",
            "43     5.0\n",
            "44     5.1\n",
            "45     4.8\n",
            "46     5.1\n",
            "47     4.6\n",
            "48     5.3\n",
            "49     5.0\n",
            "50     7.0\n",
            "51     6.4\n",
            "52     6.9\n",
            "53     5.5\n",
            "54     6.5\n",
            "55     5.7\n",
            "56     6.3\n",
            "57     4.9\n",
            "58     6.6\n",
            "59     5.2\n",
            "60     5.0\n",
            "61     5.9\n",
            "62     6.0\n",
            "63     6.1\n",
            "64     5.6\n",
            "65     6.7\n",
            "66     5.6\n",
            "67     5.8\n",
            "68     6.2\n",
            "69     5.6\n",
            "70     5.9\n",
            "71     6.1\n",
            "72     6.3\n",
            "73     6.1\n",
            "74     6.4\n",
            "75     6.6\n",
            "76     6.8\n",
            "77     6.7\n",
            "78     6.0\n",
            "79     5.7\n",
            "80     5.5\n",
            "81     5.5\n",
            "82     5.8\n",
            "83     6.0\n",
            "84     5.4\n",
            "85     6.0\n",
            "86     6.7\n",
            "87     6.3\n",
            "88     5.6\n",
            "89     5.5\n",
            "90     5.5\n",
            "91     6.1\n",
            "92     5.8\n",
            "93     5.0\n",
            "94     5.6\n",
            "95     5.7\n",
            "96     5.7\n",
            "97     6.2\n",
            "98     5.1\n",
            "99     5.7\n",
            "100    6.3\n",
            "101    5.8\n",
            "102    7.1\n",
            "103    6.3\n",
            "104    6.5\n",
            "105    7.6\n",
            "106    4.9\n",
            "107    7.3\n",
            "108    6.7\n",
            "109    7.2\n",
            "110    6.5\n",
            "111    6.4\n",
            "112    6.8\n",
            "113    5.7\n",
            "114    5.8\n",
            "115    6.4\n",
            "116    6.5\n",
            "117    7.7\n",
            "118    7.7\n",
            "119    6.0\n",
            "120    6.9\n",
            "121    5.6\n",
            "122    7.7\n",
            "123    6.3\n",
            "124    6.7\n",
            "125    7.2\n",
            "126    6.2\n",
            "127    6.1\n",
            "128    6.4\n",
            "129    7.2\n",
            "130    7.4\n",
            "131    7.9\n",
            "132    6.4\n",
            "133    6.3\n",
            "134    6.1\n",
            "135    7.7\n",
            "136    6.3\n",
            "137    6.4\n",
            "138    6.0\n",
            "139    6.9\n",
            "140    6.7\n",
            "141    6.9\n",
            "142    5.8\n",
            "143    6.8\n",
            "144    6.7\n",
            "145    6.7\n",
            "146    6.3\n",
            "147    6.5\n",
            "148    6.2\n",
            "149    5.9\n",
            "Name: sepallength, dtype: float64\n"
          ]
        }
      ]
    },
    {
      "cell_type": "markdown",
      "source": [
        "Exercise for Scikit Learn Library: Perform the mentioned steps of the Implementation Guidelines\n",
        "on Breast Cancer Dataset of Scikit Learn Library."
      ],
      "metadata": {
        "id": "7-USdQFmNUVU"
      }
    },
    {
      "cell_type": "code",
      "source": [
        "import numpy as np\n",
        "import matplotlib as plt\n",
        "from sklearn import datasets\n",
        "from sklearn import metrics\n",
        "from sklearn.linear_model import LogisticRegression\n",
        "from sklearn.model_selection import train_test_split\n",
        "\n",
        "wine = datasets.load_wine()\n",
        "X = wine.data\n",
        "y = wine.target\n",
        "feature_names = wine.feature_names\n",
        "target_names = wine.target_names\n",
        "\n",
        "print(\"Features: \", feature_names)\n",
        "print(\"Targets: \", target_names)\n",
        "print()\n",
        "print(X[:5])\n",
        "\n",
        "X_train, X_test, Y_train, Y_test = train_test_split(\n",
        "    X, y, test_size = 0.2, random_state = 1\n",
        ")"
      ],
      "metadata": {
        "colab": {
          "base_uri": "https://localhost:8080/"
        },
        "id": "ihwoR1pvNVSB",
        "outputId": "a8abc343-fa61-4d23-f14f-4c9346c0bcf0"
      },
      "execution_count": 29,
      "outputs": [
        {
          "output_type": "stream",
          "name": "stdout",
          "text": [
            "Features:  ['alcohol', 'malic_acid', 'ash', 'alcalinity_of_ash', 'magnesium', 'total_phenols', 'flavanoids', 'nonflavanoid_phenols', 'proanthocyanins', 'color_intensity', 'hue', 'od280/od315_of_diluted_wines', 'proline']\n",
            "Targets:  ['class_0' 'class_1' 'class_2']\n",
            "\n",
            "[[1.423e+01 1.710e+00 2.430e+00 1.560e+01 1.270e+02 2.800e+00 3.060e+00\n",
            "  2.800e-01 2.290e+00 5.640e+00 1.040e+00 3.920e+00 1.065e+03]\n",
            " [1.320e+01 1.780e+00 2.140e+00 1.120e+01 1.000e+02 2.650e+00 2.760e+00\n",
            "  2.600e-01 1.280e+00 4.380e+00 1.050e+00 3.400e+00 1.050e+03]\n",
            " [1.316e+01 2.360e+00 2.670e+00 1.860e+01 1.010e+02 2.800e+00 3.240e+00\n",
            "  3.000e-01 2.810e+00 5.680e+00 1.030e+00 3.170e+00 1.185e+03]\n",
            " [1.437e+01 1.950e+00 2.500e+00 1.680e+01 1.130e+02 3.850e+00 3.490e+00\n",
            "  2.400e-01 2.180e+00 7.800e+00 8.600e-01 3.450e+00 1.480e+03]\n",
            " [1.324e+01 2.590e+00 2.870e+00 2.100e+01 1.180e+02 2.800e+00 2.690e+00\n",
            "  3.900e-01 1.820e+00 4.320e+00 1.040e+00 2.930e+00 7.350e+02]]\n"
          ]
        }
      ]
    }
  ]
}