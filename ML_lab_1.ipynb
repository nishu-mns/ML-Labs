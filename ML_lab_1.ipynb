{
  "nbformat": 4,
  "nbformat_minor": 0,
  "metadata": {
    "colab": {
      "provenance": [],
      "authorship_tag": "ABX9TyMZeJ6k2Dj7M401kj7zrtqP",
      "include_colab_link": true
    },
    "kernelspec": {
      "name": "python3",
      "display_name": "Python 3"
    },
    "language_info": {
      "name": "python"
    }
  },
  "cells": [
    {
      "cell_type": "markdown",
      "metadata": {
        "id": "view-in-github",
        "colab_type": "text"
      },
      "source": [
        "<a href=\"https://colab.research.google.com/github/nishu-mns/ML-Labs/blob/main/ML_lab_1.ipynb\" target=\"_parent\"><img src=\"https://colab.research.google.com/assets/colab-badge.svg\" alt=\"Open In Colab\"/></a>"
      ]
    },
    {
      "cell_type": "code",
      "execution_count": null,
      "metadata": {
        "colab": {
          "base_uri": "https://localhost:8080/"
        },
        "id": "HdTd0sPu-dB0",
        "outputId": "5ebc09f9-7ec8-47fd-eea6-6dc9280906d3"
      },
      "outputs": [
        {
          "output_type": "stream",
          "name": "stdout",
          "text": [
            "5 TYPE:  <class 'int'>\n",
            "Hello TYPE:  <class 'str'>\n",
            "[1, 2, 3] TYPE:  <class 'list'>\n"
          ]
        }
      ],
      "source": [
        "import numpy as np\n",
        "x=5\n",
        "print(x,\"TYPE: \",type(x))\n",
        "x=\"Hello\"\n",
        "print(x,\"TYPE: \",type(x))\n",
        "x=[1,2,3]\n",
        "print(x,\"TYPE: \",type(x))"
      ]
    },
    {
      "cell_type": "code",
      "source": [
        "import numpy as np\n",
        "\n",
        "x = np.array([[1,2],[3,4]], dtype=np.float64)\n",
        "y = np.array([[5,6],[7,8]], dtype=np.float64)\n",
        "print(x + y)\n",
        "print(np.add(x, y))\n",
        "print(x.dot(y))\n",
        "v = np.array([[1,2,3]])\n",
        "print(v )\n",
        "print(\"transpose\\n\", v.T)"
      ],
      "metadata": {
        "colab": {
          "base_uri": "https://localhost:8080/"
        },
        "id": "guWuKng3CAw3",
        "outputId": "3df4c1fd-5a8d-4e2e-d0ab-7355c1fb2a00"
      },
      "execution_count": null,
      "outputs": [
        {
          "output_type": "stream",
          "name": "stdout",
          "text": [
            "[[ 6.  8.]\n",
            " [10. 12.]]\n",
            "[[ 6.  8.]\n",
            " [10. 12.]]\n",
            "[[19. 22.]\n",
            " [43. 50.]]\n",
            "[[1 2 3]]\n",
            "transpose\n",
            " [[1]\n",
            " [2]\n",
            " [3]]\n"
          ]
        }
      ]
    },
    {
      "cell_type": "markdown",
      "source": [
        "1) Create Two numpy array of size 4 X 5 and 5 X 4."
      ],
      "metadata": {
        "id": "tqhLH80x4IuY"
      }
    },
    {
      "cell_type": "code",
      "source": [
        "import numpy as np\n",
        "arr1 = np.array([[1,2,3,4],[5,6,7,8],[9,10,11,12],[13,14,15,16],[17,18,19,10]]);\n",
        "arr2 = np.array([[2,4,6,8,10],[12,14,16,18,20],[22,24,26,28,30],[32,34,36,38,40]]);\n",
        "print(arr1)\n",
        "print(arr2)"
      ],
      "metadata": {
        "colab": {
          "base_uri": "https://localhost:8080/"
        },
        "id": "d3ccg2u74Ls9",
        "outputId": "8ab06737-ed3f-4669-f634-69190854809e"
      },
      "execution_count": null,
      "outputs": [
        {
          "output_type": "stream",
          "name": "stdout",
          "text": [
            "[[ 1  2  3  4]\n",
            " [ 5  6  7  8]\n",
            " [ 9 10 11 12]\n",
            " [13 14 15 16]\n",
            " [17 18 19 10]]\n",
            "[[ 2  4  6  8 10]\n",
            " [12 14 16 18 20]\n",
            " [22 24 26 28 30]\n",
            " [32 34 36 38 40]]\n"
          ]
        }
      ]
    },
    {
      "cell_type": "markdown",
      "source": [
        "2) Randomly Initalize that array"
      ],
      "metadata": {
        "id": "vOGjQ9xK5n5z"
      }
    },
    {
      "cell_type": "code",
      "source": [
        "import numpy as np\n",
        "\n",
        "arr1 = np.random.randint(70, size=(4,5));\n",
        "arr2 = np.random.randint(50, size=(5,4));\n",
        "\n",
        "print(arr1)\n",
        "print(arr2)"
      ],
      "metadata": {
        "id": "-RFBGTmJ5xZl",
        "colab": {
          "base_uri": "https://localhost:8080/"
        },
        "outputId": "5feb26a5-2577-473b-c5b4-8a25fe7690f8"
      },
      "execution_count": null,
      "outputs": [
        {
          "output_type": "stream",
          "name": "stdout",
          "text": [
            "[[59 45 29  3 21]\n",
            " [25 57  4 21  6]\n",
            " [ 8 22 16 24  8]\n",
            " [42 18  4  0 37]]\n",
            "[[26 43 36  7]\n",
            " [41 13 25 41]\n",
            " [28 14 19 46]\n",
            " [49 38 12 38]\n",
            " [44  7 16 25]]\n"
          ]
        }
      ]
    },
    {
      "cell_type": "markdown",
      "source": [
        "3) Perform matrix multiplication"
      ],
      "metadata": {
        "id": "KjquGc2Ow-lw"
      }
    },
    {
      "cell_type": "code",
      "source": [
        "import numpy as np\n",
        "\n",
        "arr1 = np.random.randint(9, size=(2,3))\n",
        "arr2 = np.random.randint(9, size=(3,4))\n",
        "print(arr1)\n",
        "print(arr2)\n",
        "\n",
        "arr = np.dot(arr1, arr2)\n",
        "print(arr)"
      ],
      "metadata": {
        "colab": {
          "base_uri": "https://localhost:8080/"
        },
        "id": "15SZGIZKxC39",
        "outputId": "127b5b0e-9feb-4c72-9fc8-6229ab116db6"
      },
      "execution_count": null,
      "outputs": [
        {
          "output_type": "stream",
          "name": "stdout",
          "text": [
            "[[8 0 8]\n",
            " [8 8 6]]\n",
            "[[5 3 7 6]\n",
            " [8 8 0 8]\n",
            " [6 3 4 0]]\n",
            "[[ 88  48  88  48]\n",
            " [140 106  80 112]]\n"
          ]
        }
      ]
    },
    {
      "cell_type": "markdown",
      "source": [
        "4) Perform elementwise matrix multiplication"
      ],
      "metadata": {
        "id": "akDhxIzsxvBt"
      }
    },
    {
      "cell_type": "code",
      "source": [
        "import numpy as np\n",
        "\n",
        "arr1 = np.array([[1,2],[3,4]])\n",
        "arr2 = np.array([[4,8],[0,5]])\n",
        "\n",
        "arr = np.multiply(arr1, arr2)\n",
        "print(arr)"
      ],
      "metadata": {
        "colab": {
          "base_uri": "https://localhost:8080/"
        },
        "id": "R_YjfLJnxwyC",
        "outputId": "b41ae528-51d5-4242-c999-c4d498fca4d7"
      },
      "execution_count": null,
      "outputs": [
        {
          "output_type": "stream",
          "name": "stdout",
          "text": [
            "[[ 4 16]\n",
            " [ 0 20]]\n"
          ]
        }
      ]
    },
    {
      "cell_type": "markdown",
      "source": [
        "5) Find mean, median of the first matrix."
      ],
      "metadata": {
        "id": "T6ykqMEs2ZLs"
      }
    },
    {
      "cell_type": "code",
      "source": [
        "import numpy as np\n",
        "\n",
        "arr = np.random.randint(100, size=(4,5))\n",
        "print(arr)\n",
        "\n",
        "# calculates mean along the columns\n",
        "hmean = np.mean(arr, axis=0)\n",
        "# calculates mean along the rows\n",
        "vmean = np.mean(arr, axis=1)\n",
        "print(hmean, vmean)\n",
        "\n",
        "# calculates median along the columns\n",
        "hmed = np.median(arr, axis=0)\n",
        "# calculates median along the rows\n",
        "vmed = np.median(arr, axis=1)\n",
        "print(hmed, vmed)"
      ],
      "metadata": {
        "colab": {
          "base_uri": "https://localhost:8080/"
        },
        "id": "upIm3YH92cUc",
        "outputId": "5f23e56d-2798-42ed-89d2-b6e64b27261e"
      },
      "execution_count": null,
      "outputs": [
        {
          "output_type": "stream",
          "name": "stdout",
          "text": [
            "[[31 21 74 23 95]\n",
            " [92 59 16 14 37]\n",
            " [92 71 80 98 10]\n",
            " [62 84 10 86 89]]\n",
            "[69.25 58.75 45.   55.25 57.75] [48.8 43.6 70.2 66.2]\n",
            "[77.  65.  45.  54.5 63. ] [31. 37. 80. 84.]\n"
          ]
        }
      ]
    },
    {
      "cell_type": "markdown",
      "source": [
        "6) Get the transpose of that Matrix that you created. Create a square matrix and find its deter-\n",
        "minant."
      ],
      "metadata": {
        "id": "QcAnCMQ42wPb"
      }
    },
    {
      "cell_type": "code",
      "source": [
        "import numpy as np\n",
        "\n",
        "arr = np.random.randint(100, size=(4,5))\n",
        "print(arr)\n",
        "\n",
        "arr1 = arr.T\n",
        "print(arr1)\n",
        "\n",
        "arr2 = np.transpose(arr)\n",
        "print(arr2)\n",
        "print()\n",
        "\n",
        "mat = np.random.randint(10, size=(3,3))\n",
        "print(mat)\n",
        "\n",
        "det1 = np.linalg.det(mat).round()\n",
        "print(det1)"
      ],
      "metadata": {
        "colab": {
          "base_uri": "https://localhost:8080/"
        },
        "id": "p_1NElpV2xai",
        "outputId": "61ac2e81-05c8-4d3e-bc97-85b05e7e23b2"
      },
      "execution_count": null,
      "outputs": [
        {
          "output_type": "stream",
          "name": "stdout",
          "text": [
            "[[14 85 36 12 94]\n",
            " [23  9 89 44 40]\n",
            " [98 86 27 11 23]\n",
            " [46 41 32 17 61]]\n",
            "[[14 23 98 46]\n",
            " [85  9 86 41]\n",
            " [36 89 27 32]\n",
            " [12 44 11 17]\n",
            " [94 40 23 61]]\n",
            "[[14 23 98 46]\n",
            " [85  9 86 41]\n",
            " [36 89 27 32]\n",
            " [12 44 11 17]\n",
            " [94 40 23 61]]\n",
            "\n",
            "[[7 0 9]\n",
            " [1 8 9]\n",
            " [8 5 8]]\n",
            "-398.0\n"
          ]
        }
      ]
    },
    {
      "cell_type": "markdown",
      "source": [
        "7) Obtain each row in the second column of the first array."
      ],
      "metadata": {
        "id": "tYZjjhe13zYw"
      }
    },
    {
      "cell_type": "code",
      "source": [
        "import numpy as np\n",
        "\n",
        "arr = np.random.randint(50, size=(4,5))\n",
        "print(arr)\n",
        "# second column will be the second row in the transpose\n",
        "row = arr.T[1:2]\n",
        "print(row)"
      ],
      "metadata": {
        "colab": {
          "base_uri": "https://localhost:8080/"
        },
        "id": "24QPMb5o33oL",
        "outputId": "71bc074c-ab6c-44ea-9cfb-19fe149c5eb9"
      },
      "execution_count": null,
      "outputs": [
        {
          "output_type": "stream",
          "name": "stdout",
          "text": [
            "[[59 94 14 73 43]\n",
            " [55 21  6 72 81]\n",
            " [60 28 42 58 18]\n",
            " [37 22  4 16 72]]\n",
            "[[94 21 28 22]]\n"
          ]
        }
      ]
    },
    {
      "cell_type": "markdown",
      "source": [
        "8) Convert Numeric entries(columns) of mtcars.csv to Mean Centered Version"
      ],
      "metadata": {
        "id": "fFu-Bme64qJ-"
      }
    },
    {
      "cell_type": "code",
      "source": [],
      "metadata": {
        "id": "6sZQmiSR4tdI"
      },
      "execution_count": null,
      "outputs": []
    }
  ]
}