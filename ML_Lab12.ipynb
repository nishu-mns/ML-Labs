{
  "nbformat": 4,
  "nbformat_minor": 0,
  "metadata": {
    "colab": {
      "provenance": [],
      "authorship_tag": "ABX9TyOx41L0tODyAYgv+ALvjvpe",
      "include_colab_link": true
    },
    "kernelspec": {
      "name": "python3",
      "display_name": "Python 3"
    },
    "language_info": {
      "name": "python"
    }
  },
  "cells": [
    {
      "cell_type": "markdown",
      "metadata": {
        "id": "view-in-github",
        "colab_type": "text"
      },
      "source": [
        "<a href=\"https://colab.research.google.com/github/nishu-mns/ML-Labs/blob/main/ML_Lab12.ipynb\" target=\"_parent\"><img src=\"https://colab.research.google.com/assets/colab-badge.svg\" alt=\"Open In Colab\"/></a>"
      ]
    },
    {
      "cell_type": "code",
      "execution_count": 11,
      "metadata": {
        "id": "GbZ5_NZho9VD",
        "colab": {
          "base_uri": "https://localhost:8080/"
        },
        "outputId": "ed4c93e2-8a45-47cf-b745-3820dc6fe89d"
      },
      "outputs": [
        {
          "output_type": "execute_result",
          "data": {
            "text/plain": [
              "(numpy.ndarray, 60000, 10000, 60000)"
            ]
          },
          "metadata": {},
          "execution_count": 11
        }
      ],
      "source": [
        "import pandas as pd\n",
        "import numpy as np\n",
        "import tensorflow as tf\n",
        "import matplotlib.pyplot as plt\n",
        "import torch\n",
        "import torch.nn as nn\n",
        "from torch.autograd import Variable\n",
        "from torch.utils.data import DataLoader\n",
        "from tensorflow.keras.datasets import mnist\n",
        "\n",
        "(X_train, y_train), (X_test, y_test) = mnist.load_data()\n",
        "type(X_train), len(X_train), len(X_test), len(y_train)"
      ]
    },
    {
      "cell_type": "code",
      "source": [
        "# convert the data to float\n",
        "X_train = X_train.astype(dtype=np.float32)\n",
        "X_test = X_test.astype(dtype=np.float32)"
      ],
      "metadata": {
        "id": "Z4tvxgoN5_NP"
      },
      "execution_count": 12,
      "outputs": []
    },
    {
      "cell_type": "code",
      "source": [
        "X_train.shape, X_test.shape, y_train.shape, y_test.shape"
      ],
      "metadata": {
        "colab": {
          "base_uri": "https://localhost:8080/"
        },
        "id": "JB1q1hwb6CHz",
        "outputId": "5ef2bd62-4041-452a-f652-705109e0b174"
      },
      "execution_count": 13,
      "outputs": [
        {
          "output_type": "execute_result",
          "data": {
            "text/plain": [
              "((60000, 28, 28), (10000, 28, 28), (60000,), (10000,))"
            ]
          },
          "metadata": {},
          "execution_count": 13
        }
      ]
    },
    {
      "cell_type": "code",
      "source": [
        "X_train = X_train.reshape((X_train.shape[0], -1))\n",
        "X_test = X_test.reshape((X_test.shape[0], -1))\n",
        "X_train.shape, X_test.shape"
      ],
      "metadata": {
        "colab": {
          "base_uri": "https://localhost:8080/"
        },
        "id": "l2Ni0GTN6CoR",
        "outputId": "c5d09a7e-3b36-4e47-8f3e-720d4716254b"
      },
      "execution_count": 14,
      "outputs": [
        {
          "output_type": "execute_result",
          "data": {
            "text/plain": [
              "((60000, 784), (10000, 784))"
            ]
          },
          "metadata": {},
          "execution_count": 14
        }
      ]
    },
    {
      "cell_type": "code",
      "source": [
        "X_train = X_train / 255.0\n",
        "X_test = X_test / 255.0\n",
        "X_train"
      ],
      "metadata": {
        "colab": {
          "base_uri": "https://localhost:8080/"
        },
        "id": "f7r8ffcT6E2x",
        "outputId": "10ab2479-e5ff-45fa-ea27-e1686f5b6fe3"
      },
      "execution_count": 15,
      "outputs": [
        {
          "output_type": "execute_result",
          "data": {
            "text/plain": [
              "array([[0., 0., 0., ..., 0., 0., 0.],\n",
              "       [0., 0., 0., ..., 0., 0., 0.],\n",
              "       [0., 0., 0., ..., 0., 0., 0.],\n",
              "       ...,\n",
              "       [0., 0., 0., ..., 0., 0., 0.],\n",
              "       [0., 0., 0., ..., 0., 0., 0.],\n",
              "       [0., 0., 0., ..., 0., 0., 0.]], dtype=float32)"
            ]
          },
          "metadata": {},
          "execution_count": 15
        }
      ]
    },
    {
      "cell_type": "code",
      "source": [
        "X_train_data = torch.from_numpy(X_train)\n",
        "X_test_data = torch.from_numpy(X_test)\n",
        "y_train_data = torch.from_numpy(y_train)\n",
        "y_test_data = torch.from_numpy(y_test)\n",
        "\n",
        "X_train_data.shape, y_train_data.shape"
      ],
      "metadata": {
        "colab": {
          "base_uri": "https://localhost:8080/"
        },
        "id": "E1vCHnae6HAu",
        "outputId": "2fd9706c-dea1-42fe-c7ca-c9ada0645af7"
      },
      "execution_count": 16,
      "outputs": [
        {
          "output_type": "execute_result",
          "data": {
            "text/plain": [
              "(torch.Size([60000, 784]), torch.Size([60000]))"
            ]
          },
          "metadata": {},
          "execution_count": 16
        }
      ]
    },
    {
      "cell_type": "code",
      "source": [
        "batch_size = 32 #@param {type: \"number\"}\n",
        "iterations = 10000 #@param {type: \"number\"}\n",
        "epochs = iterations / (len(X_train) / batch_size)\n",
        "epochs = int(epochs)\n",
        "epochs"
      ],
      "metadata": {
        "colab": {
          "base_uri": "https://localhost:8080/"
        },
        "id": "hDgkU4j46JkH",
        "outputId": "b6db506d-6c4d-43dc-e12d-cc9b7d3fabd9"
      },
      "execution_count": 17,
      "outputs": [
        {
          "output_type": "execute_result",
          "data": {
            "text/plain": [
              "5"
            ]
          },
          "metadata": {},
          "execution_count": 17
        }
      ]
    },
    {
      "cell_type": "code",
      "source": [
        "dataloader = DataLoader(dataset=X_train_data, batch_size=batch_size, shuffle=False)\n",
        "outputloader = DataLoader(dataset=y_train_data, batch_size=batch_size, shuffle=False)\n",
        "testloader = DataLoader(dataset=X_test_data, batch_size=batch_size, shuffle=False)\n",
        "testoploader = DataLoader(dataset=y_test_data, batch_size=batch_size, shuffle=False)"
      ],
      "metadata": {
        "id": "vuQkwU2c6L0I"
      },
      "execution_count": 18,
      "outputs": []
    },
    {
      "cell_type": "code",
      "source": [
        "def image_display(arr):\n",
        "    arr = arr.cpu().detach().numpy()\n",
        "    arr = arr.reshape(28, 28)\n",
        "    plt.imshow(arr)"
      ],
      "metadata": {
        "id": "Jxa3O0bh6N6p"
      },
      "execution_count": 19,
      "outputs": []
    },
    {
      "cell_type": "code",
      "source": [
        "image_display(X_train_data[0])"
      ],
      "metadata": {
        "colab": {
          "base_uri": "https://localhost:8080/",
          "height": 265
        },
        "id": "jOxV0nD66QIy",
        "outputId": "e2f0c48c-fbf6-419d-8301-e0a68d9b6ec2"
      },
      "execution_count": 20,
      "outputs": [
        {
          "output_type": "display_data",
          "data": {
            "text/plain": [
              "<Figure size 432x288 with 1 Axes>"
            ],
            "image/png": "[encoded data removed]"
          },
          "metadata": {
            "needs_background": "light"
          }
        }
      ]
    },
    {
      "cell_type": "code",
      "source": [
        "class ANNModel(nn.Module):\n",
        "    def __init__(self, input, hidden, output):\n",
        "        super(ANNModel, self).__init__()\n",
        "        self.linear1 = nn.Linear(input, hidden)\n",
        "        self.linear2 = nn.Linear(hidden, output)\n",
        "    def forward(self, X):\n",
        "        X = X.view(-1, 28*28)\n",
        "        X = torch.sigmoid(self.linear1(X))\n",
        "        X = self.linear2(X)\n",
        "        return X"
      ],
      "metadata": {
        "id": "JuzJRkWg6ScJ"
      },
      "execution_count": 21,
      "outputs": []
    },
    {
      "cell_type": "code",
      "source": [
        "input_dim = (28 * 28)\n",
        "hidden_dim = (28 * 10)\n",
        "output_dim = 10\n",
        "\n",
        "model = ANNModel(input_dim, hidden_dim, output_dim)\n",
        "\n",
        "model.parameters"
      ],
      "metadata": {
        "colab": {
          "base_uri": "https://localhost:8080/"
        },
        "id": "LYOt_bGo6h-b",
        "outputId": "801b5ab9-ba07-447b-b4e0-16e958f6f57e"
      },
      "execution_count": 22,
      "outputs": [
        {
          "output_type": "execute_result",
          "data": {
            "text/plain": [
              "<bound method Module.parameters of ANNModel(\n",
              "  (linear1): Linear(in_features=784, out_features=280, bias=True)\n",
              "  (linear2): Linear(in_features=280, out_features=10, bias=True)\n",
              ")>"
            ]
          },
          "metadata": {},
          "execution_count": 22
        }
      ]
    },
    {
      "cell_type": "code",
      "source": [
        "criterion = nn.CrossEntropyLoss()\n",
        "learning_rate = 0.02 #@param {type: \"number\"}\n",
        "optimizer = torch.optim.SGD(model.parameters(), lr=learning_rate)"
      ],
      "metadata": {
        "id": "01Mzrq-j6kDA"
      },
      "execution_count": 23,
      "outputs": []
    },
    {
      "cell_type": "code",
      "source": [
        "count = 0\n",
        "loss_list = []\n",
        "iteration_list = []\n",
        "accuracy_list = []\n",
        "\n",
        "for epoch in range(epochs):\n",
        "    for i, j in zip(dataloader, outputloader):\n",
        "        optimizer.zero_grad()\n",
        "        train = Variable(i)\n",
        "        labels = Variable(j)\n",
        "        predictions = model(train)\n",
        "        loss = nn.functional.cross_entropy(predictions, labels)\n",
        "        count += 1\n",
        "        loss.backward()\n",
        "        optimizer.step()\n",
        "        if count % 1000 == 0:\n",
        "            correct = 0\n",
        "            total = 0\n",
        "            with torch.no_grad():\n",
        "              for ti, tj in zip(dataloader, outputloader):\n",
        "                test = Variable(ti)\n",
        "                testop = Variable(tj)\n",
        "                predictions = model(test)\n",
        "                _, predicted = torch.max(predictions.data, 1)\n",
        "                total += testop.size(0)\n",
        "                correct += (predicted == testop).sum().item()\n",
        "            accuracy = 100 * correct / total\n",
        "            accuracy_list.append(accuracy)\n",
        "            print(\"Loss ... \", loss)\n",
        "            print(\"Accuracy ... \\n\", accuracy)\n",
        "            loss_list.append(loss.item())\n",
        "            iteration_list.append(count)"
      ],
      "metadata": {
        "colab": {
          "base_uri": "https://localhost:8080/"
        },
        "id": "wiaj_d4U6mtS",
        "outputId": "e6b578dc-fda1-4c40-e59a-dfa38db402b7"
      },
      "execution_count": 24,
      "outputs": [
        {
          "output_type": "stream",
          "name": "stdout",
          "text": [
            "Loss ...  tensor(1.1903, grad_fn=<NllLossBackward0>)\n",
            "Accuracy ... \n",
            " 76.80333333333333\n",
            "Loss ...  tensor(0.6383, grad_fn=<NllLossBackward0>)\n",
            "Accuracy ... \n",
            " 84.22166666666666\n",
            "Loss ...  tensor(0.5926, grad_fn=<NllLossBackward0>)\n",
            "Accuracy ... \n",
            " 86.64833333333333\n",
            "Loss ...  tensor(0.4703, grad_fn=<NllLossBackward0>)\n",
            "Accuracy ... \n",
            " 88.14666666666666\n",
            "Loss ...  tensor(0.4430, grad_fn=<NllLossBackward0>)\n",
            "Accuracy ... \n",
            " 89.08833333333334\n",
            "Loss ...  tensor(0.3548, grad_fn=<NllLossBackward0>)\n",
            "Accuracy ... \n",
            " 89.21166666666667\n",
            "Loss ...  tensor(0.3764, grad_fn=<NllLossBackward0>)\n",
            "Accuracy ... \n",
            " 89.91166666666666\n",
            "Loss ...  tensor(0.4461, grad_fn=<NllLossBackward0>)\n",
            "Accuracy ... \n",
            " 90.05\n",
            "Loss ...  tensor(0.1813, grad_fn=<NllLossBackward0>)\n",
            "Accuracy ... \n",
            " 90.36\n"
          ]
        }
      ]
    },
    {
      "cell_type": "code",
      "source": [
        "plt.plot(iteration_list, loss_list)\n",
        "plt.show()"
      ],
      "metadata": {
        "colab": {
          "base_uri": "https://localhost:8080/",
          "height": 265
        },
        "id": "RGR1SYgj6pc9",
        "outputId": "e1b37f57-0e90-4b95-b756-6f76b400a083"
      },
      "execution_count": 25,
      "outputs": [
        {
          "output_type": "display_data",
          "data": {
            "text/plain": [
              "<Figure size 432x288 with 1 Axes>"
            ],
            "image/png": "[encoded data removed]"
          },
          "metadata": {
            "needs_background": "light"
          }
        }
      ]
    }
  ]
}