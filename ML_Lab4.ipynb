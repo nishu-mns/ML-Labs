{
  "nbformat": 4,
  "nbformat_minor": 0,
  "metadata": {
    "colab": {
      "provenance": [],
      "authorship_tag": "ABX9TyPtzRKOLLJwR6r8ZyxUO2wM",
      "include_colab_link": true
    },
    "kernelspec": {
      "name": "python3",
      "display_name": "Python 3"
    },
    "language_info": {
      "name": "python"
    }
  },
  "cells": [
    {
      "cell_type": "markdown",
      "metadata": {
        "id": "view-in-github",
        "colab_type": "text"
      },
      "source": [
        "<a href=\"https://colab.research.google.com/github/nishu-mns/ML-Labs/blob/main/ML_Lab4.ipynb\" target=\"_parent\"><img src=\"https://colab.research.google.com/assets/colab-badge.svg\" alt=\"Open In Colab\"/></a>"
      ]
    },
    {
      "cell_type": "code",
      "execution_count": 1,
      "metadata": {
        "id": "HUiaQj288eDI"
      },
      "outputs": [],
      "source": [
        "import numpy as np\n",
        "import torch"
      ]
    },
    {
      "cell_type": "code",
      "source": [
        "inputs = np.array([[73, 67, 43], \n",
        "                   [91, 88, 64], \n",
        "                   [87, 134, 58], \n",
        "                   [102, 43, 37], \n",
        "                   [69, 96, 70], \n",
        "                   [73, 67, 43], \n",
        "                   [91, 88, 64], \n",
        "                   [87, 134, 58], \n",
        "                   [102, 43, 37], \n",
        "                   [69,96, 70], \n",
        "                   [73, 67, 43], \n",
        "                   [91, 88, 64], \n",
        "                   [87, 134, 58], \n",
        "                   [102, 43, 37], \n",
        "                   [69, 96,70]], dtype='float32')\n",
        "\n",
        "targets = np.array([[56, 70], \n",
        "                    [81, 101], \n",
        "                    [119, 133], \n",
        "                    [22, 37], \n",
        "                    [103, 119], \n",
        "                    [56, 70], \n",
        "                    [81, 101], \n",
        "                    [119, 133], \n",
        "                    [22, 37], \n",
        "                    [103, 119], \n",
        "                    [56, 70], \n",
        "                    [81, 101], \n",
        "                    [119, 133], \n",
        "                    [22, 37], \n",
        "                    [103, 119]], dtype='float32')\n",
        "\n",
        "inputs2 = inputs.copy()\n",
        "targets2 = targets.copy()"
      ],
      "metadata": {
        "id": "1WBdiuMV-DlN"
      },
      "execution_count": 2,
      "outputs": []
    },
    {
      "cell_type": "code",
      "source": [
        "import torch.nn as nn\n",
        "from torch.autograd import Variable"
      ],
      "metadata": {
        "id": "jWrhQ0d30oOk"
      },
      "execution_count": 3,
      "outputs": []
    },
    {
      "cell_type": "code",
      "source": [
        "inputs = torch.from_numpy(inputs)\n",
        "targets = torch.from_numpy(targets)"
      ],
      "metadata": {
        "id": "5A1xddM30q3o"
      },
      "execution_count": 4,
      "outputs": []
    },
    {
      "cell_type": "code",
      "source": [
        "class linearRegression(torch.nn.Module):\n",
        "    def __init__(self, inputSize, outputSize):\n",
        "        super(linearRegression, self).__init__()\n",
        "        self.linear = torch.nn.Linear(inputSize, outputSize)\n",
        "        \n",
        "    def forward(self, x):\n",
        "        out = self.linear(x)\n",
        "        return out"
      ],
      "metadata": {
        "id": "ZKBEUIp20tvQ"
      },
      "execution_count": 5,
      "outputs": []
    },
    {
      "cell_type": "code",
      "source": [
        "# alpha = 0.1\n",
        "alpha = 1e-7\n",
        "model = linearRegression(inputs.size()[1], targets.size()[1])\n",
        "# epochs = min(100, inputs.size()[0])\n",
        "epochs = 1000\n",
        "\n",
        "criterion = torch.nn.MSELoss(reduction=\"mean\")\n",
        "optimizer = torch.optim.SGD(model.parameters(), lr=alpha)\n",
        "\n",
        "loss_values = []\n",
        "epoch_values = [(i + 1) for i in range(epochs)]\n",
        "\n",
        "for epoch in range(epochs):\n",
        "    optimizer.zero_grad()\n",
        "    outputs = model(inputs)\n",
        "    loss = criterion(outputs, targets)\n",
        "    loss_values.append(loss.detach().numpy())\n",
        "    if epoch == 0 or epoch == epochs - 1:\n",
        "        print(loss)\n",
        "    loss.backward()\n",
        "    optimizer.step()\n",
        "\n",
        "print(list(model.parameters()))"
      ],
      "metadata": {
        "colab": {
          "base_uri": "https://localhost:8080/"
        },
        "id": "OMCYPaq201Un",
        "outputId": "6f4e2d47-c1b9-4b68-81af-d380e45c30f5"
      },
      "execution_count": 6,
      "outputs": [
        {
          "output_type": "stream",
          "name": "stdout",
          "text": [
            "tensor(2725.8247, grad_fn=<MseLossBackward0>)\n",
            "tensor(733.6802, grad_fn=<MseLossBackward0>)\n",
            "[Parameter containing:\n",
            "tensor([[0.4030, 0.1605, 0.4880],\n",
            "        [0.4526, 0.1771, 0.6104]], requires_grad=True), Parameter containing:\n",
            "tensor([-0.2132,  0.2848], requires_grad=True)]\n"
          ]
        }
      ]
    },
    {
      "cell_type": "code",
      "source": [
        "# Plotting a graph of number of epochs vs loss\n",
        "import matplotlib.pyplot as plt\n",
        "plt.figure(figsize=(6,6))\n",
        "plt.plot(epoch_values, loss_values)\n",
        "plt.show()"
      ],
      "metadata": {
        "colab": {
          "base_uri": "https://localhost:8080/",
          "height": 374
        },
        "id": "OC5hrYqP0-SI",
        "outputId": "80179628-13ed-44f3-caa9-e0e3758de51d"
      },
      "execution_count": 7,
      "outputs": [
        {
          "output_type": "display_data",
          "data": {
            "text/plain": [
              "<Figure size 432x432 with 1 Axes>"
            ],
            "image/png": "[encoded data removed]"
          },
          "metadata": {
            "needs_background": "light"
          }
        }
      ]
    },
    {
      "cell_type": "code",
      "source": [
        "predicted = model(Variable(inputs)).data.numpy()\n",
        "predicted = Variable(torch.from_numpy(predicted))\n",
        "for i in range(len(predicted)):\n",
        "    print(predicted[i], targets[i], abs(predicted[i] - targets[i]))"
      ],
      "metadata": {
        "colab": {
          "base_uri": "https://localhost:8080/"
        },
        "id": "HllYBSkj1EI0",
        "outputId": "44584e65-afde-4149-fb64-85f60a9ba431"
      },
      "execution_count": 8,
      "outputs": [
        {
          "output_type": "stream",
          "name": "stdout",
          "text": [
            "tensor([60.9432, 71.4336]) tensor([56., 70.]) tensor([4.9432, 1.4336])\n",
            "tensor([81.8157, 96.1167]) tensor([ 81., 101.]) tensor([0.8157, 4.8833])\n",
            "tensor([84.6563, 98.7894]) tensor([119., 133.]) tensor([34.3437, 34.2106])\n",
            "tensor([65.8519, 76.6461]) tensor([22., 37.]) tensor([43.8519, 39.6461])\n",
            "tensor([77.1609, 91.2390]) tensor([103., 119.]) tensor([25.8391, 27.7610])\n",
            "tensor([60.9432, 71.4336]) tensor([56., 70.]) tensor([4.9432, 1.4336])\n",
            "tensor([81.8157, 96.1167]) tensor([ 81., 101.]) tensor([0.8157, 4.8833])\n",
            "tensor([84.6563, 98.7894]) tensor([119., 133.]) tensor([34.3437, 34.2106])\n",
            "tensor([65.8519, 76.6461]) tensor([22., 37.]) tensor([43.8519, 39.6461])\n",
            "tensor([77.1609, 91.2390]) tensor([103., 119.]) tensor([25.8391, 27.7610])\n",
            "tensor([60.9432, 71.4336]) tensor([56., 70.]) tensor([4.9432, 1.4336])\n",
            "tensor([81.8157, 96.1167]) tensor([ 81., 101.]) tensor([0.8157, 4.8833])\n",
            "tensor([84.6563, 98.7894]) tensor([119., 133.]) tensor([34.3437, 34.2106])\n",
            "tensor([65.8519, 76.6461]) tensor([22., 37.]) tensor([43.8519, 39.6461])\n",
            "tensor([77.1609, 91.2390]) tensor([103., 119.]) tensor([25.8391, 27.7610])\n"
          ]
        }
      ]
    },
    {
      "cell_type": "code",
      "source": [
        "# Predict crop yield for apples if temp = 70, rain = 34, and humidity = 45\n",
        "input = torch.from_numpy(np.array([70, 34, 45], dtype=\"float32\"))\n",
        "print(model(Variable(input)).data.numpy())"
      ],
      "metadata": {
        "colab": {
          "base_uri": "https://localhost:8080/"
        },
        "id": "8On6R5IW1Img",
        "outputId": "a5ed6bd2-77dc-4b69-bab7-92d62a639a70"
      },
      "execution_count": 9,
      "outputs": [
        {
          "output_type": "stream",
          "name": "stdout",
          "text": [
            "[55.41521 65.45319]\n"
          ]
        }
      ]
    },
    {
      "cell_type": "code",
      "source": [
        "from sklearn.model_selection import train_test_split\n",
        "from sklearn.metrics import mean_squared_error\n",
        "from sklearn.linear_model import LinearRegression"
      ],
      "metadata": {
        "id": "ml-4rSxM1NZC"
      },
      "execution_count": 10,
      "outputs": []
    },
    {
      "cell_type": "code",
      "source": [
        "X_train, X_test, y_train, y_test = train_test_split(inputs2, targets2, test_size=0.2)\n",
        "model = LinearRegression()\n",
        "model.fit(X_train, y_train)\n",
        "predictions = model.predict(X_test)\n",
        "predictions, y_test"
      ],
      "metadata": {
        "colab": {
          "base_uri": "https://localhost:8080/"
        },
        "id": "oju0qDXq1QEd",
        "outputId": "f181e5f4-5bf2-4b5e-b648-6aa8d13156c2"
      },
      "execution_count": 11,
      "outputs": [
        {
          "output_type": "execute_result",
          "data": {
            "text/plain": [
              "(array([[ 57.998405,  69.85993 ],\n",
              "        [118.705215, 133.02066 ],\n",
              "        [ 57.998405,  69.85993 ]], dtype=float32), array([[ 56.,  70.],\n",
              "        [119., 133.],\n",
              "        [ 56.,  70.]], dtype=float32))"
            ]
          },
          "metadata": {},
          "execution_count": 11
        }
      ]
    },
    {
      "cell_type": "code",
      "source": [
        "mean_squared_error(predictions, y_test)"
      ],
      "metadata": {
        "colab": {
          "base_uri": "https://localhost:8080/"
        },
        "id": "J2H8zJnc1R_b",
        "outputId": "e212bd04-0390-47c6-f715-abf847dd7584"
      },
      "execution_count": 12,
      "outputs": [
        {
          "output_type": "execute_result",
          "data": {
            "text/plain": [
              "1.3523021"
            ]
          },
          "metadata": {},
          "execution_count": 12
        }
      ]
    }
  ]
}